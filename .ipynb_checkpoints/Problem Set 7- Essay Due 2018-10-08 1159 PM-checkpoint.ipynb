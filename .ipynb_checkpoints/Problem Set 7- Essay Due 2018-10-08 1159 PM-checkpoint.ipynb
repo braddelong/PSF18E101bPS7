{
 "cells": [
  {
   "cell_type": "markdown",
   "metadata": {},
   "source": [
    "# Problem Set 7: Essay Due 2018-10-08 11:59 PM\n",
    "\n",
    "Take either of the following \"Optional Reading\" articles:\n",
    "\n",
    "* Moses Abramovitz (1986): Catching Up, Forging Ahead, and Falling Behind <http://www.jstor.org/stable/2122171>\n",
    "\n",
    "* Michael Kremer (1993): Population Growth and Technological Change: One Million B.C. to 1990 <https://www.ssc.wisc.edu/~walker/wp/wp-content/uploads/2012/01/kremer1993.pdf> \n",
    "\n",
    "The first attempts to characterize the patterns by which the income and productivity levels of different countries have diverged while individual countries have either kept or have switched their relative positions—either falling behind, catching up, or forging ahead. The second attempt to make sense of the long sweep of human history since the hunter-gatherer age.\n",
    "\n",
    "For the article you have chosen, write a 500 word or so essay (less than 350 words will receive a grouchy reading; more than 800 words will receive a grouchy reading) explaining how the article does or does not deepen your understanding of the Solow model, and how your knowledge of the Solow model does or does not deepen your understanding of the phenomena presented in the article and the arguments Abramovitz or Kremer make.\n",
    "\n",
    "Submit your article via bcourses in the appropriate text-entry area at: <https://bcourses.berkeley.edu/courses/1471771/assignments/7928279>"
   ]
  }
 ],
 "metadata": {
  "kernelspec": {
   "display_name": "Python 3",
   "language": "python",
   "name": "python3"
  },
  "language_info": {
   "codemirror_mode": {
    "name": "ipython",
    "version": 3
   },
   "file_extension": ".py",
   "mimetype": "text/x-python",
   "name": "python",
   "nbconvert_exporter": "python",
   "pygments_lexer": "ipython3",
   "version": "3.6.5"
  }
 },
 "nbformat": 4,
 "nbformat_minor": 2
}
